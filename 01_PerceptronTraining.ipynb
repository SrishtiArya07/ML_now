{
  "nbformat": 4,
  "nbformat_minor": 0,
  "metadata": {
    "colab": {
      "name": "01_PerceptronTraining.ipynb",
      "provenance": [],
      "authorship_tag": "ABX9TyNBrUaqynMADgy/jgPlanXJ",
      "include_colab_link": true
    },
    "kernelspec": {
      "name": "python3",
      "display_name": "Python 3"
    },
    "language_info": {
      "name": "python"
    }
  },
  "cells": [
    {
      "cell_type": "markdown",
      "metadata": {
        "id": "view-in-github",
        "colab_type": "text"
      },
      "source": [
        "<a href=\"https://colab.research.google.com/github/SrishtiArya07/ML_now/blob/main/01_PerceptronTraining.ipynb\" target=\"_parent\"><img src=\"https://colab.research.google.com/assets/colab-badge.svg\" alt=\"Open In Colab\"/></a>"
      ]
    },
    {
      "cell_type": "code",
      "metadata": {
        "id": "u_aHW9BDVXhz",
        "colab": {
          "base_uri": "https://localhost:8080/"
        },
        "outputId": "c6963b2d-f012-4bb9-85d5-a1a1b1a7f66c"
      },
      "source": [
        "print(\"Hello World!\")"
      ],
      "execution_count": null,
      "outputs": [
        {
          "output_type": "stream",
          "text": [
            "Hello World!\n"
          ],
          "name": "stdout"
        }
      ]
    },
    {
      "cell_type": "markdown",
      "metadata": {
        "id": "A2geJSLAc_f3"
      },
      "source": [
        "#Problem Statement\n",
        "\n",
        "Train a model to learn the table of 10\n",
        "\n",
        "Equation: y = 10*x"
      ]
    },
    {
      "cell_type": "markdown",
      "metadata": {
        "id": "-V3A0cIRdt0V"
      },
      "source": [
        "##Data Creation\n",
        "\n",
        "Equation: `y=10x`\n",
        "\n",
        "Target -->\n",
        "\n",
        "```\n",
        "x = [0, 1, 2, 3, 4, 5,....]\n",
        "\n",
        "y = [0, 10, 20, 30, 40, 50,....]\n",
        "```"
      ]
    },
    {
      "cell_type": "code",
      "metadata": {
        "colab": {
          "base_uri": "https://localhost:8080/"
        },
        "id": "QEHLVtZFeHoo",
        "outputId": "1a2754ee-2a3a-4bf2-e594-cd34419ef308"
      },
      "source": [
        "x = [i for i in range(21)] #List comprehension\n",
        "print(x)"
      ],
      "execution_count": 15,
      "outputs": [
        {
          "output_type": "stream",
          "text": [
            "[0, 1, 2, 3, 4, 5, 6, 7, 8, 9, 10, 11, 12, 13, 14, 15, 16, 17, 18, 19, 20]\n"
          ],
          "name": "stdout"
        }
      ]
    },
    {
      "cell_type": "code",
      "metadata": {
        "colab": {
          "base_uri": "https://localhost:8080/"
        },
        "id": "tZ8J5MjyejT7",
        "outputId": "3cb2d6ae-2549-42dc-983b-01c3eb15c9cb"
      },
      "source": [
        "y = [i for i in range(10*20 + 1) if i%10==0]\n",
        "print(y)"
      ],
      "execution_count": 16,
      "outputs": [
        {
          "output_type": "stream",
          "text": [
            "[0, 10, 20, 30, 40, 50, 60, 70, 80, 90, 100, 110, 120, 130, 140, 150, 160, 170, 180, 190, 200]\n"
          ],
          "name": "stdout"
        }
      ]
    },
    {
      "cell_type": "markdown",
      "metadata": {
        "id": "IJCEPwm9gVd1"
      },
      "source": [
        "## Approach 1\n",
        "\n",
        "Defining a function for the equation `y=10x`\n",
        "\n"
      ]
    },
    {
      "cell_type": "code",
      "metadata": {
        "colab": {
          "base_uri": "https://localhost:8080/"
        },
        "id": "lamYQxdyg_un",
        "outputId": "fdb0a312-a76b-4c4b-bfcf-3e0ba59d2f14"
      },
      "source": [
        "  for value in x:\n",
        "    print(value)"
      ],
      "execution_count": 17,
      "outputs": [
        {
          "output_type": "stream",
          "text": [
            "0\n",
            "1\n",
            "2\n",
            "3\n",
            "4\n",
            "5\n",
            "6\n",
            "7\n",
            "8\n",
            "9\n",
            "10\n",
            "11\n",
            "12\n",
            "13\n",
            "14\n",
            "15\n",
            "16\n",
            "17\n",
            "18\n",
            "19\n",
            "20\n"
          ],
          "name": "stdout"
        }
      ]
    },
    {
      "cell_type": "code",
      "metadata": {
        "colab": {
          "base_uri": "https://localhost:8080/"
        },
        "id": "bPG9foCKgnvv",
        "outputId": "590c5999-16a4-40ed-e12d-599a575ce0e1"
      },
      "source": [
        "def tableofTen(x):\n",
        "  y = 10*x\n",
        "  return y\n",
        "\n",
        "\n",
        "for value in x:\n",
        "  print(tableofTen(value))"
      ],
      "execution_count": 18,
      "outputs": [
        {
          "output_type": "stream",
          "text": [
            "0\n",
            "10\n",
            "20\n",
            "30\n",
            "40\n",
            "50\n",
            "60\n",
            "70\n",
            "80\n",
            "90\n",
            "100\n",
            "110\n",
            "120\n",
            "130\n",
            "140\n",
            "150\n",
            "160\n",
            "170\n",
            "180\n",
            "190\n",
            "200\n"
          ],
          "name": "stdout"
        }
      ]
    },
    {
      "cell_type": "markdown",
      "metadata": {
        "id": "I0mqGeIrhbQZ"
      },
      "source": [
        "##Approach 2\n",
        "\n",
        "Using the ML approach. Although it will result in a redundant ML model for the table of 10.\n",
        "\n",
        "\n",
        "We're going to need `xTrain`, `yTrain`, `xTest`, `yTest` from the `x`and `y`lists\n",
        "\n",
        "`this is x: [1,2,3,4,5]`"
      ]
    },
    {
      "cell_type": "code",
      "metadata": {
        "colab": {
          "base_uri": "https://localhost:8080/"
        },
        "id": "lBMnX8kYho82",
        "outputId": "bf46ea32-0ab4-48c0-c7cc-0f1a2efe0e3e"
      },
      "source": [
        "print(f'This is x: {x}')\n",
        "print(f'This is y: {y}')"
      ],
      "execution_count": 19,
      "outputs": [
        {
          "output_type": "stream",
          "text": [
            "This is x: [0, 1, 2, 3, 4, 5, 6, 7, 8, 9, 10, 11, 12, 13, 14, 15, 16, 17, 18, 19, 20]\n",
            "This is y: [0, 10, 20, 30, 40, 50, 60, 70, 80, 90, 100, 110, 120, 130, 140, 150, 160, 170, 180, 190, 200]\n"
          ],
          "name": "stdout"
        }
      ]
    },
    {
      "cell_type": "code",
      "metadata": {
        "colab": {
          "base_uri": "https://localhost:8080/"
        },
        "id": "KuhcJay9jOjr",
        "outputId": "2d1c1665-60fa-4107-aeaa-53d1d339e3bb"
      },
      "source": [
        "print(y[-5:])"
      ],
      "execution_count": 22,
      "outputs": [
        {
          "output_type": "stream",
          "text": [
            "[160, 170, 180, 190, 200]\n"
          ],
          "name": "stdout"
        }
      ]
    },
    {
      "cell_type": "code",
      "metadata": {
        "colab": {
          "base_uri": "https://localhost:8080/"
        },
        "id": "0VSR9xl8ibiH",
        "outputId": "27b5506f-86a8-4fb5-d214-1c3d6bf45aab"
      },
      "source": [
        "xTrain = x[:-5] #Training Data\n",
        "yTrain = y[:-5] #Training Labels\n",
        "\n",
        "xTest = x[-5:] #Testing Data\n",
        "yTest = y[-5:] #Testing Labels\n",
        "\n",
        "print(f'''\n",
        "Training Data:\n",
        "\n",
        "xTrain : {xTrain}\n",
        "yTrain : {yTrain}\n",
        "\n",
        "Testing Data:\n",
        "\n",
        "xTest : {xTest}\n",
        "yTest : {yTest}\n",
        "''')"
      ],
      "execution_count": 26,
      "outputs": [
        {
          "output_type": "stream",
          "text": [
            "\n",
            "Training Data:\n",
            "\n",
            "xTrain : [0, 1, 2, 3, 4, 5, 6, 7, 8, 9, 10, 11, 12, 13, 14, 15]\n",
            "yTrain : [0, 10, 20, 30, 40, 50, 60, 70, 80, 90, 100, 110, 120, 130, 140, 150]\n",
            "\n",
            "Testing Data:\n",
            "\n",
            "xTest : [16, 17, 18, 19, 20]\n",
            "yTest : [160, 170, 180, 190, 200]\n",
            "\n"
          ],
          "name": "stdout"
        }
      ]
    },
    {
      "cell_type": "code",
      "metadata": {
        "id": "tZKkFrAHkXl6"
      },
      "source": [
        "import tensorflow as tf\n",
        "from tensorflow import keras"
      ],
      "execution_count": 27,
      "outputs": []
    },
    {
      "cell_type": "code",
      "metadata": {
        "id": "5xdPSGOAkuUa"
      },
      "source": [
        "#perceptron model\n",
        "\n",
        "model = tf.keras.Sequential([\n",
        "                             tf.keras.layers.Dense(units = 1, input_shape=[1]) #unit is the number of neurons and input_shape is the shape of neurons                                                  \n",
        "])"
      ],
      "execution_count": 29,
      "outputs": []
    }
  ]
}