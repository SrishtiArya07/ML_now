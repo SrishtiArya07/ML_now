{
  "nbformat": 4,
  "nbformat_minor": 0,
  "metadata": {
    "colab": {
      "name": "01_PerceptronTraining.ipynb",
      "provenance": [],
      "authorship_tag": "ABX9TyNQGSni9ZOlYU+bApDJYtCi",
      "include_colab_link": true
    },
    "kernelspec": {
      "name": "python3",
      "display_name": "Python 3"
    },
    "language_info": {
      "name": "python"
    }
  },
  "cells": [
    {
      "cell_type": "markdown",
      "metadata": {
        "id": "view-in-github",
        "colab_type": "text"
      },
      "source": [
        "<a href=\"https://colab.research.google.com/github/SrishtiArya07/ML_now/blob/main/01_PerceptronTraining.ipynb\" target=\"_parent\"><img src=\"https://colab.research.google.com/assets/colab-badge.svg\" alt=\"Open In Colab\"/></a>"
      ]
    },
    {
      "cell_type": "code",
      "metadata": {
        "id": "u_aHW9BDVXhz",
        "colab": {
          "base_uri": "https://localhost:8080/"
        },
        "outputId": "c6963b2d-f012-4bb9-85d5-a1a1b1a7f66c"
      },
      "source": [
        "print(\"Hello World!\")"
      ],
      "execution_count": null,
      "outputs": [
        {
          "output_type": "stream",
          "text": [
            "Hello World!\n"
          ],
          "name": "stdout"
        }
      ]
    },
    {
      "cell_type": "code",
      "metadata": {
        "id": "M_X3dYb7WdMN"
      },
      "source": [
        ""
      ],
      "execution_count": null,
      "outputs": []
    },
    {
      "cell_type": "markdown",
      "metadata": {
        "id": "A2geJSLAc_f3"
      },
      "source": [
        "#Problem Statement\n",
        "\n",
        "Train a model to learn the table of 10\n",
        "\n",
        "Equation: y = 10*x"
      ]
    },
    {
      "cell_type": "code",
      "metadata": {
        "id": "xmg0_dU8dbG_"
      },
      "source": [
        ""
      ],
      "execution_count": null,
      "outputs": []
    },
    {
      "cell_type": "markdown",
      "metadata": {
        "id": "2-IojwStYxzs"
      },
      "source": [
        ""
      ]
    }
  ]
}