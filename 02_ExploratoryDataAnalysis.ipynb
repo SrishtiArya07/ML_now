{
  "nbformat": 4,
  "nbformat_minor": 0,
  "metadata": {
    "colab": {
      "name": "02_ExploratoryDataAnalysis.ipynb",
      "provenance": [],
      "authorship_tag": "ABX9TyMmzhlBq7I8r0Hevxn5PFgg",
      "include_colab_link": true
    },
    "kernelspec": {
      "name": "python3",
      "display_name": "Python 3"
    },
    "language_info": {
      "name": "python"
    }
  },
  "cells": [
    {
      "cell_type": "markdown",
      "metadata": {
        "id": "view-in-github",
        "colab_type": "text"
      },
      "source": [
        "<a href=\"https://colab.research.google.com/github/SrishtiArya07/ML_now/blob/main/02_ExploratoryDataAnalysis.ipynb\" target=\"_parent\"><img src=\"https://colab.research.google.com/assets/colab-badge.svg\" alt=\"Open In Colab\"/></a>"
      ]
    },
    {
      "cell_type": "code",
      "metadata": {
        "colab": {
          "base_uri": "https://localhost:8080/"
        },
        "id": "gBzGoNDEZ8XZ",
        "outputId": "5e54976b-73f4-41dd-e64f-d702dd876310"
      },
      "source": [
        "from google.colab import drive\n",
        "drive.mount('/content/drive')"
      ],
      "execution_count": 1,
      "outputs": [
        {
          "output_type": "stream",
          "text": [
            "Mounted at /content/drive\n"
          ],
          "name": "stdout"
        }
      ]
    },
    {
      "cell_type": "code",
      "metadata": {
        "colab": {
          "base_uri": "https://localhost:8080/"
        },
        "id": "0P5nEjSqdlsb",
        "outputId": "f83fbf2f-bd1b-47b6-d4cf-3f5e35a9799f"
      },
      "source": [
        "cd '/content/drive/MyDrive/ML codes/02_EDA/student'"
      ],
      "execution_count": 2,
      "outputs": [
        {
          "output_type": "stream",
          "text": [
            "/content/drive/MyDrive/ML codes/02_EDA/student\n"
          ],
          "name": "stdout"
        }
      ]
    },
    {
      "cell_type": "code",
      "metadata": {
        "colab": {
          "base_uri": "https://localhost:8080/"
        },
        "id": "cxwSf83KdneR",
        "outputId": "6a4f8907-d7ff-4988-cc30-8f2bd7d2e97e"
      },
      "source": [
        "ls"
      ],
      "execution_count": 3,
      "outputs": [
        {
          "output_type": "stream",
          "text": [
            "student-mat.csv  student-merge.R  student-por.csv  student.txt\n"
          ],
          "name": "stdout"
        }
      ]
    },
    {
      "cell_type": "code",
      "metadata": {
        "id": "duJaRCrCdrqk"
      },
      "source": [
        "import pandas as pd #working with csv or excel files\n",
        "import numpy as np #working with numbers/arrays/tensors\n",
        "import tensorflow as tf #framework\n",
        "from tensorflow import keras #API/library\n",
        "import os #using os commands between the python language "
      ],
      "execution_count": 5,
      "outputs": []
    }
  ]
}